{
 "cells": [
  {
   "cell_type": "code",
   "execution_count": 7,
   "metadata": {},
   "outputs": [
    {
     "name": "stdout",
     "output_type": "stream",
     "text": [
      "Agus Kurniawan\n",
      "Jakarta\n",
      "Jalan Durian No. 13\n"
     ]
    }
   ],
   "source": [
    "nama = \"Agus Kurniawan\"\n",
    "Kota = \"Jakarta\"\n",
    "Alamat = 'Jalan Durian No. 13'\n",
    "\n",
    "nama_depan = \"Agus\"\n",
    "nama_belakang = \"Kurniawan\"\n",
    "nama_lengkap = nama_depan + \" \" + nama_belakang\n",
    "\n",
    "print(nama_lengkap)\n",
    "print(Kota)\n",
    "print(Alamat)"
   ]
  },
  {
   "cell_type": "code",
   "execution_count": null,
   "metadata": {},
   "outputs": [],
   "source": []
  }
 ],
 "metadata": {
  "kernelspec": {
   "display_name": "Python 3",
   "language": "python",
   "name": "python3"
  },
  "language_info": {
   "codemirror_mode": {
    "name": "ipython",
    "version": 3
   },
   "file_extension": ".py",
   "mimetype": "text/x-python",
   "name": "python",
   "nbconvert_exporter": "python",
   "pygments_lexer": "ipython3",
   "version": "3.7.6"
  }
 },
 "nbformat": 4,
 "nbformat_minor": 4
}
