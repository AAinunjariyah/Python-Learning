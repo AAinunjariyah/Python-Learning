{
  "nbformat": 4,
  "nbformat_minor": 0,
  "metadata": {
    "colab": {
      "name": "Jupyter Notebook : google colab - week 1",
      "provenance": [],
      "private_outputs": true,
      "collapsed_sections": []
    },
    "kernelspec": {
      "name": "python3",
      "display_name": "Python 3"
    },
    "accelerator": "GPU"
  },
  "cells": [
    {
      "cell_type": "markdown",
      "metadata": {
        "id": "tisSDdlPdSH6",
        "colab_type": "text"
      },
      "source": [
        "# Section 1"
      ]
    },
    {
      "cell_type": "markdown",
      "metadata": {
        "id": "8WRDC5OXdpcK",
        "colab_type": "text"
      },
      "source": [
        "Instal Python pada website resmi www.python.org ikuti setiap langkah yang ada.\n"
      ]
    },
    {
      "cell_type": "markdown",
      "metadata": {
        "id": "UNH_pWJEf4dl",
        "colab_type": "text"
      },
      "source": [
        "open cmd searching for python --version"
      ]
    },
    {
      "cell_type": "markdown",
      "metadata": {
        "id": "l1W_4bppf_31",
        "colab_type": "text"
      },
      "source": [
        "muncul python version 3"
      ]
    },
    {
      "cell_type": "markdown",
      "metadata": {
        "id": "CGRjnHLvgNDv",
        "colab_type": "text"
      },
      "source": [
        "text editor untuk program python - Visual Studio Code (lebih mudah)"
      ]
    },
    {
      "cell_type": "markdown",
      "metadata": {
        "id": "zL1YUPI2gfvu",
        "colab_type": "text"
      },
      "source": [
        "# Section 2 - Create Project"
      ]
    },
    {
      "cell_type": "markdown",
      "metadata": {
        "id": "2xW-NzFvgto0",
        "colab_type": "text"
      },
      "source": [
        "Buat new folder"
      ]
    },
    {
      "cell_type": "markdown",
      "metadata": {
        "id": "NxbCeit8hdlD",
        "colab_type": "text"
      },
      "source": [
        "Pada VSC sudah ada terminal sendiri, sehingga memudahkan proses pemrograman"
      ]
    },
    {
      "cell_type": "markdown",
      "metadata": {
        "id": "J5xbs0kZiP_2",
        "colab_type": "text"
      },
      "source": [
        "# Section 3 - Shortcut"
      ]
    },
    {
      "cell_type": "markdown",
      "metadata": {
        "id": "mr2F8JgyiZTu",
        "colab_type": "text"
      },
      "source": [
        "**1. Print (\"\") = untuk menampilkan tulisan**\n",
        "\n"
      ]
    },
    {
      "cell_type": "markdown",
      "metadata": {
        "id": "LH_lNvyXsjgf",
        "colab_type": "text"
      },
      "source": [
        "tanda kutip (\"\") artinya text atau *string*"
      ]
    },
    {
      "cell_type": "code",
      "metadata": {
        "id": "z-I2T1Vhijjy",
        "colab_type": "code",
        "colab": {}
      },
      "source": [
        "print(\"Hello World\")"
      ],
      "execution_count": null,
      "outputs": []
    },
    {
      "cell_type": "code",
      "metadata": {
        "id": "5PLfEBlVi0L8",
        "colab_type": "code",
        "colab": {}
      },
      "source": [
        "print (\"Selamat Belajar\")"
      ],
      "execution_count": null,
      "outputs": []
    },
    {
      "cell_type": "markdown",
      "metadata": {
        "id": "BXyWnK5ajjOx",
        "colab_type": "text"
      },
      "source": [
        "**2. Menampilkan *comment*\n",
        " *example* = #ini adalah komentar**\n"
      ]
    },
    {
      "cell_type": "code",
      "metadata": {
        "id": "ziG2_3mRkt8s",
        "colab_type": "code",
        "colab": {}
      },
      "source": [
        "#iniadalahkomentar"
      ],
      "execution_count": null,
      "outputs": []
    },
    {
      "cell_type": "markdown",
      "metadata": {
        "id": "W_CzEuC9r06x",
        "colab_type": "text"
      },
      "source": [
        "biasanya disisipkan diujung. jika tanda crush # dihilangkan maka akan error"
      ]
    },
    {
      "cell_type": "markdown",
      "metadata": {
        "id": "_9Gr-knwsXc2",
        "colab_type": "text"
      },
      "source": [
        "**3. Angka = print (1)**\n",
        "\n",
        "\n",
        "\n"
      ]
    },
    {
      "cell_type": "markdown",
      "metadata": {
        "id": "ipi8KKH3sx4r",
        "colab_type": "text"
      },
      "source": [
        "tanpa tanda petik (\"\") isinya hanya angka. angka bisa ditambahkan pada operasi matematika. *Note = menggunakan titik (.)"
      ]
    },
    {
      "cell_type": "markdown",
      "metadata": {
        "id": "XRWOkLsltKIa",
        "colab_type": "text"
      },
      "source": [
        "**4. Operasi matematika sederhana = #Tambah #Kurang #Bagi #Kali #sisa Bagi (math)**"
      ]
    },
    {
      "cell_type": "code",
      "metadata": {
        "id": "4ejXq_yutkH9",
        "colab_type": "code",
        "colab": {}
      },
      "source": [
        "1+1"
      ],
      "execution_count": null,
      "outputs": []
    },
    {
      "cell_type": "code",
      "metadata": {
        "id": "IP0GOcLgtmv7",
        "colab_type": "code",
        "colab": {}
      },
      "source": [
        "1-1"
      ],
      "execution_count": null,
      "outputs": []
    },
    {
      "cell_type": "code",
      "metadata": {
        "id": "a0Tb7iNItpN9",
        "colab_type": "code",
        "colab": {}
      },
      "source": [
        "10/5"
      ],
      "execution_count": null,
      "outputs": []
    },
    {
      "cell_type": "code",
      "metadata": {
        "id": "Xi5VFr9btr7Y",
        "colab_type": "code",
        "colab": {}
      },
      "source": [
        "3*3"
      ],
      "execution_count": null,
      "outputs": []
    },
    {
      "cell_type": "code",
      "metadata": {
        "id": "sj-uUNwftwNO",
        "colab_type": "code",
        "colab": {}
      },
      "source": [
        "10%3"
      ],
      "execution_count": null,
      "outputs": []
    },
    {
      "cell_type": "markdown",
      "metadata": {
        "id": "r8BFOXFqt4W6",
        "colab_type": "text"
      },
      "source": [
        "**5. Variable**"
      ]
    },
    {
      "cell_type": "markdown",
      "metadata": {
        "id": "dR0g9bmsuAtt",
        "colab_type": "text"
      },
      "source": [
        "*example* print(\"Hello World\") akan diubah menjadi \"Halo Dunia\", maka pada *text* harus diubah semuanya. sehingga fitur variabel ini berfungsi sebagai tempat menyimpan data"
      ]
    },
    {
      "cell_type": "markdown",
      "metadata": {
        "id": "zXoxDP2dugHT",
        "colab_type": "text"
      },
      "source": [
        "untuk membuat variable = beri nama variable. *example* **hello** *boleh apa aja yang penting tidak bentrok dengan instruksi\n",
        "\n"
      ]
    },
    {
      "cell_type": "code",
      "metadata": {
        "id": "kLudwhgYvLlD",
        "colab_type": "code",
        "colab": {}
      },
      "source": [
        "hello = \"Halo Dunia\""
      ],
      "execution_count": null,
      "outputs": []
    },
    {
      "cell_type": "markdown",
      "metadata": {
        "id": "odOiP3A6vgf8",
        "colab_type": "text"
      },
      "source": [
        "variable \"hello\" kemudian datanya akan menjadi \"Halo Dunia\". Cukum menggunakan variable \"hello\" untuk menampilkan \"Halo Dunia\". jika ingin diubah silahkan ubah pada variable saja. "
      ]
    },
    {
      "cell_type": "markdown",
      "metadata": {
        "id": "EugTY3UqwAc9",
        "colab_type": "text"
      },
      "source": [
        "Boleh mengganti variable ditengah-tengah pemrograman."
      ]
    },
    {
      "cell_type": "markdown",
      "metadata": {
        "id": "cXcTUyNOwLid",
        "colab_type": "text"
      },
      "source": [
        "**6. Data String = tipe data text (string)**\n",
        "\n"
      ]
    },
    {
      "cell_type": "markdown",
      "metadata": {
        "id": "IPPGj-EXwSny",
        "colab_type": "text"
      },
      "source": [
        "cukup menggunakan (\"\") tanda kutip. Boleh kutip dua (\") dan kutip satu (')"
      ]
    },
    {
      "cell_type": "code",
      "metadata": {
        "id": "tSkNKI-Gw2Hz",
        "colab_type": "code",
        "colab": {}
      },
      "source": [
        "nama = \"Eko Kurniawan\"\n",
        "kota = \"Jakarta\"\n",
        "alamat = 'ghhkkk'"
      ],
      "execution_count": null,
      "outputs": []
    },
    {
      "cell_type": "markdown",
      "metadata": {
        "id": "319AQDSExCxO",
        "colab_type": "text"
      },
      "source": [
        "Dua *string* boleh ditambahkan/digabungkan. Untuk memberikan *space* bisa ditambahkan ditengah-tengah."
      ]
    },
    {
      "cell_type": "code",
      "metadata": {
        "id": "OIuq1orGxQ-y",
        "colab_type": "code",
        "colab": {}
      },
      "source": [
        "nama_depan = \"Eko\"\n",
        "nama_belakang = \"Khannedy\"\n",
        "nama_lengkap + nama_depan + \" \" + nama_belakang"
      ],
      "execution_count": null,
      "outputs": []
    },
    {
      "cell_type": "code",
      "metadata": {
        "id": "ROD0il7GyTZQ",
        "colab_type": "code",
        "colab": {}
      },
      "source": [
        "print(nama_lengkap)"
      ],
      "execution_count": null,
      "outputs": []
    },
    {
      "cell_type": "markdown",
      "metadata": {
        "id": "GMmIXE8fxvRC",
        "colab_type": "text"
      },
      "source": [
        "**7. String Format (string.format)**\n",
        "\n"
      ]
    },
    {
      "cell_type": "markdown",
      "metadata": {
        "id": "wEtjuY_Rx6Jt",
        "colab_type": "text"
      },
      "source": [
        "untuk menyapa nama depan/belakang/tengah. untuk menandakan suatu *text* adalah *string format* ditambahkan **f**.\n",
        "\n"
      ]
    },
    {
      "cell_type": "code",
      "metadata": {
        "id": "fNinZI2Hyb1i",
        "colab_type": "code",
        "colab": {}
      },
      "source": [
        "nama_depan = \"Eko\"\n",
        "nam_tengah = \"Kurniawan\"\n",
        "nama_belakang = \"Khannedy\"\n",
        "\n",
        "sapa = f\"Halo {nama_depan} {nama_tengah} {nama_belakang}\"\n",
        "\n",
        "print(sapa)\n"
      ],
      "execution_count": null,
      "outputs": []
    },
    {
      "cell_type": "markdown",
      "metadata": {
        "id": "YbJERtZz4T79",
        "colab_type": "text"
      },
      "source": [
        "dengan menghilngkan **f** maka *string format* undetected"
      ]
    },
    {
      "cell_type": "markdown",
      "metadata": {
        "id": "IIarY0E24hSA",
        "colab_type": "text"
      },
      "source": [
        "**8. Input Data (input)**"
      ]
    },
    {
      "cell_type": "markdown",
      "metadata": {
        "id": "XtlqWTEs88Oz",
        "colab_type": "text"
      },
      "source": [
        "Pada kenyataannya ketika bikin aplikasi input data dimasukkan oleh pengguna aplikasinya.  "
      ]
    },
    {
      "cell_type": "markdown",
      "metadata": {
        "id": "hgCsUuZq9Z03",
        "colab_type": "text"
      },
      "source": [
        "*example* : nama = input() - sebagai perintah input"
      ]
    },
    {
      "cell_type": "code",
      "metadata": {
        "id": "eyWvLXga9qDm",
        "colab_type": "code",
        "colab": {}
      },
      "source": [
        "print(\"Silahkan masukkan nama : \")\n",
        "nama = input()\n",
        "\n",
        "print(f\"Hello {nama}, Selamat Datang\")"
      ],
      "execution_count": null,
      "outputs": []
    },
    {
      "cell_type": "markdown",
      "metadata": {
        "id": "bRZh7JPO-GGj",
        "colab_type": "text"
      },
      "source": [
        "Ktika memasukkan nama ex : Eko Kurniawan maka akan otomatis print out \"Hello Eko Kurniawan, Selamat Datang\"\n"
      ]
    },
    {
      "cell_type": "markdown",
      "metadata": {
        "id": "e31yyR7c-mwQ",
        "colab_type": "text"
      },
      "source": [
        "karena ketika memasukkan \"Eko Kurnniawan\" maka otomatis akan masuk ke variable *nama* sebagai input"
      ]
    },
    {
      "cell_type": "markdown",
      "metadata": {
        "id": "f-A6Jr4O_EHH",
        "colab_type": "text"
      },
      "source": [
        "**9. Input Number (input_number)**"
      ]
    },
    {
      "cell_type": "markdown",
      "metadata": {
        "id": "_ydS1uff_WbW",
        "colab_type": "text"
      },
      "source": [
        "untuk memunculkan data angka maka perlu menambahkan perintah **int** sebelum input() - *data string* untuk convert dari *string to integer*"
      ]
    },
    {
      "cell_type": "markdown",
      "metadata": {
        "id": "m4IJ_Ygh_T38",
        "colab_type": "text"
      },
      "source": [
        "remember : ketika dikonversi maka inputnya harus angka (*number*)"
      ]
    },
    {
      "cell_type": "markdown",
      "metadata": {
        "id": "TyyoO_DxAmX7",
        "colab_type": "text"
      },
      "source": [
        "**10. Tipe Data Boolean = True atau False (boolean)**"
      ]
    },
    {
      "cell_type": "code",
      "metadata": {
        "id": "WVV-mXrADzki",
        "colab_type": "code",
        "colab": {}
      },
      "source": [
        "menikah = False\n",
        "Jomblo = True\n",
        "\n",
        "print(menikah)\n",
        "print(jomblo)"
      ],
      "execution_count": null,
      "outputs": []
    },
    {
      "cell_type": "markdown",
      "metadata": {
        "id": "DQVVFQZAEJMV",
        "colab_type": "text"
      },
      "source": [
        "**11. Operasi Logika = digunakan untuk data boolean (logic_operator.py)**"
      ]
    },
    {
      "cell_type": "markdown",
      "metadata": {
        "id": "VhCf6Hk_Egoq",
        "colab_type": "text"
      },
      "source": [
        "*Logic Operator* ini akan melakukan operasi terhadap 2 nilai boolean dan hasilnya juga boolean."
      ]
    },
    {
      "cell_type": "markdown",
      "metadata": {
        "id": "RSvJpMT0Ezrk",
        "colab_type": "text"
      },
      "source": [
        "ada 2 operator logika :\n",
        "1. Dan *keyword* **and**\n",
        "akan melakukan operasi terhadap nilai boolean di kiri & di kanan.\n"
      ]
    },
    {
      "cell_type": "code",
      "metadata": {
        "id": "-z8ZzfDIFYUn",
        "colab_type": "code",
        "colab": {}
      },
      "source": [
        "print (True and True)    = True\n",
        "print (True and False)   = False\n",
        "print (False and True)   = False\n",
        "print (False and False)  = False"
      ],
      "execution_count": null,
      "outputs": []
    },
    {
      "cell_type": "markdown",
      "metadata": {
        "id": "j8gr7Zk8R-tg",
        "colab_type": "text"
      },
      "source": [
        "2. Atau *keyword* **or**. Seperti diatas akan ada 4 kemungkinan. Proses memilih."
      ]
    },
    {
      "cell_type": "code",
      "metadata": {
        "id": "-2IrU7b7SPzA",
        "colab_type": "code",
        "colab": {}
      },
      "source": [
        "= True\n",
        "= True\n",
        "= True\n",
        "= False"
      ],
      "execution_count": null,
      "outputs": []
    },
    {
      "cell_type": "markdown",
      "metadata": {
        "id": "624fnOt8SlJq",
        "colab_type": "text"
      },
      "source": [
        "**12. Operator Perbandingan = membandingkan dua angka**"
      ]
    },
    {
      "cell_type": "markdown",
      "metadata": {
        "id": "MH9hFn1ESzoB",
        "colab_type": "text"
      },
      "source": [
        "Caranya dengan melakukan pengecekan : \n",
        "1. > lebih dari\n",
        "2. < kurang dari\n",
        "3. >= lebih dari sama dengan\n",
        "4. <= kurang dari sama dengan\n",
        "5. == sama dengan\n",
        "6. != tidak sama dengan\n",
        "\n",
        "\n",
        "\n"
      ]
    },
    {
      "cell_type": "markdown",
      "metadata": {
        "id": "ps-3c5H2UPel",
        "colab_type": "text"
      },
      "source": [
        "*sama dengan* dan *tidak sama dengan* bisa digunakan dalam tipe data **string**"
      ]
    },
    {
      "cell_type": "markdown",
      "metadata": {
        "id": "N_a4S5seUiy9",
        "colab_type": "text"
      },
      "source": [
        "Nanti hasil dari perbandingan hanya ada **True** dan **False**"
      ]
    },
    {
      "cell_type": "markdown",
      "metadata": {
        "id": "62KR84dOU0jG",
        "colab_type": "text"
      },
      "source": [
        "**13. If-Statement = jika suatu kondisi terjadi atau terpenuhi kita akan melakukan apa (if)**"
      ]
    },
    {
      "cell_type": "code",
      "metadata": {
        "id": "a0tinuxNVay9",
        "colab_type": "code",
        "colab": {}
      },
      "source": [
        "if kondisi\n",
        "  melakukan apa?\n",
        "  melakukan hal lain\n",
        "  dan seterusnya"
      ],
      "execution_count": null,
      "outputs": []
    },
    {
      "cell_type": "markdown",
      "metadata": {
        "id": "Sa1Pqc-oVDve",
        "colab_type": "text"
      },
      "source": [
        "Semua harus menggunakan karakter *tab*, jika tidak ada *tab* maka tidak terjadi eksekusi pada kondisi tersebut."
      ]
    },
    {
      "cell_type": "code",
      "metadata": {
        "id": "H7UEcKGgV7Yt",
        "colab_type": "code",
        "colab": {}
      },
      "source": [
        "orang = 100\n",
        "zombie = 100\n",
        "\n",
        "if orang < zombie:\n",
        "  print (\"Kabur, dunia hancur\")\n",
        "if orang > zombie:\n",
        "  print(\"Mari hajar\")\n",
        "If orang == Zombie:\n",
        "print(\"siap perang\")"
      ],
      "execution_count": null,
      "outputs": []
    },
    {
      "cell_type": "markdown",
      "metadata": {
        "id": "VZsK3K1OWXs5",
        "colab_type": "text"
      },
      "source": [
        "Hasilnya : ketika **False** tidak akan dieksekusi, sehingga yang **True** yang akan dieksekusi. Dari program diatas yang **True** adalah If orang == Zombie."
      ]
    },
    {
      "cell_type": "markdown",
      "metadata": {
        "id": "OgRJuIKaWylw",
        "colab_type": "text"
      },
      "source": [
        "**13. Percabangan If-Else**"
      ]
    },
    {
      "cell_type": "code",
      "metadata": {
        "id": "4Z9y2e1gcx9J",
        "colab_type": "code",
        "colab": {}
      },
      "source": [
        "menang = False\n",
        "if menang == True ;\n",
        "  print (\"Selamat!\")\n",
        "\n",
        "else :\n",
        "  print(\"Silahkan coba lagi!\")"
      ],
      "execution_count": null,
      "outputs": []
    },
    {
      "cell_type": "markdown",
      "metadata": {
        "id": "rnuIWhsadR3N",
        "colab_type": "text"
      },
      "source": [
        "Ketika kondisi **If** dimana butuh melakukan kebalikan kondisinya berarti digabug **If** dan **else**"
      ]
    },
    {
      "cell_type": "markdown",
      "metadata": {
        "id": "lFDij42idtap",
        "colab_type": "text"
      },
      "source": [
        "**14. Elif = else if (Elif.py)**"
      ]
    },
    {
      "cell_type": "markdown",
      "metadata": {
        "id": "v7TiwlDWeAij",
        "colab_type": "text"
      },
      "source": [
        "Elif akan menggabungkan *if*, dimana jika *if* yang pertama brnilai **True** maka *if* selanjutnya tidak akan ikut dieksekusi termasuk *else*"
      ]
    },
    {
      "cell_type": "code",
      "metadata": {
        "id": "cYYUryF-faLD",
        "colab_type": "code",
        "colab": {}
      },
      "source": [
        "menu_pilihan = input(\"Silahkan pilih menu [1-3]\")\n",
        "\n",
        "if menu_pilihan == \"1\" :\n",
        "  print(\"Anda memilih 1\")\n",
        "elif menu_pilihan == \"2\" :\n",
        "  print (\"Anda memilih 2\")\n",
        "\n",
        "else :\n",
        "  print (\"Menu tidak tersedia\")\n",
        "  "
      ],
      "execution_count": null,
      "outputs": []
    },
    {
      "cell_type": "markdown",
      "metadata": {
        "id": "hCf3ZgaKf9U1",
        "colab_type": "text"
      },
      "source": [
        "Remember : Dari semua blok yang dieksekusi hanya dari *if* sampai *else*"
      ]
    },
    {
      "cell_type": "markdown",
      "metadata": {
        "id": "_LNdmco9t5ll",
        "colab_type": "text"
      },
      "source": [
        "**15. Struktur Data List (lis)**"
      ]
    },
    {
      "cell_type": "markdown",
      "metadata": {
        "id": "JDcOUqvB1kjU",
        "colab_type": "text"
      },
      "source": [
        "untuk membuat variable list dari sekumpulan data bahkan yang tak terhingga "
      ]
    },
    {
      "cell_type": "code",
      "metadata": {
        "id": "KSGlh3RC2bS3",
        "colab_type": "code",
        "colab": {}
      },
      "source": [
        "nama = [\"eko\", \"budi\", \"andi\"]\n",
        "nama.appeand(\"joko\")\n",
        "\n",
        "print(nama[0])\n",
        "print(nama[1])\n",
        "print(nama[2])\n",
        "print(nama[3])\n",
        "\n",
        "print(len(nama))\n",
        "\n",
        "nama.remove(\"budi\")\n",
        "\n",
        "print(nama)"
      ],
      "execution_count": null,
      "outputs": []
    },
    {
      "cell_type": "markdown",
      "metadata": {
        "id": "fL1Und6M3DIx",
        "colab_type": "text"
      },
      "source": [
        "untuk mengakses tiap data yang dilist bisa menggunakan **indeks**. Cara mengakses *indeks* yaitu dengan [] pada variable nya."
      ]
    },
    {
      "cell_type": "markdown",
      "metadata": {
        "id": "3NhhdvVh3cTM",
        "colab_type": "text"
      },
      "source": [
        "Pada phyton **Indeks** dimulai dari 0. Sehingga untuk mengakses data yang pertama bisa dimulai dari 0, 1, 2, 3....."
      ]
    },
    {
      "cell_type": "markdown",
      "metadata": {
        "id": "sKAKdcua32N_",
        "colab_type": "text"
      },
      "source": [
        "Remember : akses **indeks** hanya sesuai yang ada pada data, karena akan error. Untuk mengecek ukuran pada list/berapa banyak data yang ada dilist bisa menggunakan perintah **len(nama)**. Untuk menghapus data bisa menggunakan perintah **nama.remove**. Untuk menambah data **nama.appeand**. Ketika *remove* data maka indeks akan berpindah. Mengubah/edit data **nama[0] = \"kurniawan\"** disesuaikan dengan indeks yang akan diubah."
      ]
    },
    {
      "cell_type": "markdown",
      "metadata": {
        "id": "I_7zEoSP6p8j",
        "colab_type": "text"
      },
      "source": [
        "**16. For Loop (Pengulangan For)**"
      ]
    },
    {
      "cell_type": "markdown",
      "metadata": {
        "id": "6rWHI8HH7w1U",
        "colab_type": "text"
      },
      "source": [
        "Untuk menampilkan data berulang. **for** untuk mengakses semua data yang ada pada list"
      ]
    },
    {
      "cell_type": "code",
      "metadata": {
        "id": "zZGeU7b-73_P",
        "colab_type": "code",
        "colab": {}
      },
      "source": [
        "Pelanggan = [\"eko\", \"budi\", \"joko\", \"andi\"]\n",
        "\n",
        "for nama in pelanggan\n",
        "  print(nama)"
      ],
      "execution_count": null,
      "outputs": []
    },
    {
      "cell_type": "markdown",
      "metadata": {
        "id": "jvLjHUeM8sva",
        "colab_type": "text"
      },
      "source": [
        "pada program misal variablenya *nama* dan data variable listnya *pelanggan*. Jadi ketika mengakses data pada list *pelanggan* tiap data akan dimasukkan ke variable *nama*. Jadi perintah **for** akan diulang-ulang terus dari data pertama hingga akhir."
      ]
    },
    {
      "cell_type": "markdown",
      "metadata": {
        "id": "NAFpY_gM-HJx",
        "colab_type": "text"
      },
      "source": [
        "\n",
        "**17. Range**"
      ]
    },
    {
      "cell_type": "markdown",
      "metadata": {
        "id": "VoI_xMzZ3sgc",
        "colab_type": "text"
      },
      "source": [
        "Digunakan untuk membuat list otomatis, hanya dengan memasukkan batas awal dan batas akhir. Dimana batas akhir dilebihkan satu.\n"
      ]
    },
    {
      "cell_type": "code",
      "metadata": {
        "id": "5WvJOUyFkh4u",
        "colab_type": "code",
        "colab": {}
      },
      "source": [
        "for no in range(1,11):\n",
        "  print(no)"
      ],
      "execution_count": null,
      "outputs": []
    },
    {
      "cell_type": "markdown",
      "metadata": {
        "id": "U0uWvG4QlEb8",
        "colab_type": "text"
      },
      "source": [
        "**18. Membuat Program Menggunakan For-Loop, List dan Range**"
      ]
    },
    {
      "cell_type": "code",
      "metadata": {
        "id": "lg4ZDVyrmMDe",
        "colab_type": "code",
        "colab": {}
      },
      "source": [
        "banyak = int(input(\"Berapa banyak data?\"))\n",
        "\n",
        "nama = []\n",
        "umur = []\n",
        "\n",
        "for i in range(0, banyak):\n",
        "  print(f\"Data ke {i}\")\n",
        "  input_nama = input(\"Nama :\")\n",
        "  input_umur = int(input(\"Umur : \"))\n",
        "\n",
        "  nama.append(input_nama)\n",
        "  nama.append(input_umur)\n",
        "\n",
        "for i in range(0, len(nama)) :\n",
        "  data_nama = nama[i]\n",
        "  data_umur = umur[i]\n",
        "  print(f\"{data_nama} berumur {data_umur} tahun\")"
      ],
      "execution_count": null,
      "outputs": []
    },
    {
      "cell_type": "markdown",
      "metadata": {
        "id": "XVmb1svLr2CW",
        "colab_type": "text"
      },
      "source": [
        "**19. While-Loop (Perulangan While)**"
      ]
    },
    {
      "cell_type": "markdown",
      "metadata": {
        "id": "c1dG3a_nsGOC",
        "colab_type": "text"
      },
      "source": [
        "Bedanya dengan **for** yaitu jika di *for* perlu memasukkan sebuah data *list* atau *range*. Sedangkan **while** melakukan perulangan sesuai kondisi *boolean*."
      ]
    },
    {
      "cell_type": "markdown",
      "metadata": {
        "id": "lus6HsPxsiF5",
        "colab_type": "text"
      },
      "source": [
        "jika **while** kondisinya **true** maka *isi while* akan terus di eksekusi hingga benilai **false**. Jika kondisinya **false** maka tidak akan mengeksekusi."
      ]
    },
    {
      "cell_type": "code",
      "metadata": {
        "id": "2G90URpWqukY",
        "colab_type": "code",
        "colab": {}
      },
      "source": [
        "data = \"\"\n",
        "\n",
        "while data != \"x\":\n",
        "  print(\"masuk perulangan\")\n",
        "  data = input(\"data :\")\n"
      ],
      "execution_count": null,
      "outputs": []
    },
    {
      "cell_type": "markdown",
      "metadata": {
        "id": "96nkCGSTruTR",
        "colab_type": "text"
      },
      "source": [
        "**20. Penggunaan Continue (continue)**"
      ]
    },
    {
      "cell_type": "markdown",
      "metadata": {
        "id": "-8YIJlXIr2DX",
        "colab_type": "text"
      },
      "source": [
        "untuk memunculkan angka genap/ganjil atau menskip proses data yang terulang/looping sehingga proses *looping* akan dilanjutkan ke *looping* yang selanjutnya."
      ]
    },
    {
      "cell_type": "code",
      "metadata": {
        "id": "TwTygBsZtAeR",
        "colab_type": "code",
        "colab": {}
      },
      "source": [
        "for i in range(1, 100):\n",
        "  if i %  == 0:\n",
        "    continue\n",
        "  print (i)"
      ],
      "execution_count": null,
      "outputs": []
    },
    {
      "cell_type": "markdown",
      "metadata": {
        "id": "88ba3x4ltUvL",
        "colab_type": "text"
      },
      "source": [
        "**21. Penggunaan Break (Break)**"
      ]
    },
    {
      "cell_type": "markdown",
      "metadata": {
        "id": "A5h0Atu6tccp",
        "colab_type": "text"
      },
      "source": [
        "Digunakan untuk menstop perulangan dan tidak dilanjutkan lagi. Jadi berarpun data di indeksnya tetap saja akan stop jika ada perintah **break**."
      ]
    },
    {
      "cell_type": "code",
      "metadata": {
        "id": "fFd7DPzttkPK",
        "colab_type": "code",
        "colab": {}
      },
      "source": [
        "for i ini range(1, 100):\n",
        "  if i % 5 == 0:\n",
        "    break\n",
        "  print(i)"
      ],
      "execution_count": null,
      "outputs": []
    },
    {
      "cell_type": "markdown",
      "metadata": {
        "id": "BYKk5x8tuBDV",
        "colab_type": "text"
      },
      "source": [
        "*Remember : misalnya pada perintah **while True** yaitu perintah yang akan looping tanpa henti, sehingga untuk memberhentikan dengan keyword **break**. Lebih mudah dibanding **while_loop**"
      ]
    },
    {
      "cell_type": "markdown",
      "metadata": {
        "id": "TYUQ1JY5unP_",
        "colab_type": "text"
      },
      "source": [
        "**22. Struktur Data Tuple (Tuple)**"
      ]
    },
    {
      "cell_type": "markdown",
      "metadata": {
        "id": "jeawiPW_uxYt",
        "colab_type": "text"
      },
      "source": [
        "Seperti keywoord *list* **tuple** digunakan untuk menyimpan datalebih dari satu. Bedanya *list* menggunakan *kurung kotak* [ ] sedangkan *Tuple* menggunakan *kurung buka biasa* ( )"
      ]
    },
    {
      "cell_type": "code",
      "metadata": {
        "id": "8ne4L86rvWZ3",
        "colab_type": "code",
        "colab": {}
      },
      "source": [
        "pelanggan = (\"Eko\", \"Joko\", \"Andi\")\n",
        "\n",
        "print(pelanggan)"
      ],
      "execution_count": null,
      "outputs": []
    },
    {
      "cell_type": "markdown",
      "metadata": {
        "id": "zvPwjb_Uvgnw",
        "colab_type": "text"
      },
      "source": [
        "Pada **Tuple** merupakan data *immutable* yaitu data yang tidak bisa berubah. Sedangkan untu **List** bisa mengubah data yaitu dengan perintah edit-data."
      ]
    },
    {
      "cell_type": "markdown",
      "metadata": {
        "id": "dVk1aCVJw1B8",
        "colab_type": "text"
      },
      "source": [
        "Tipe data **Tuple** cocok digunakan pada *Method* yaitu untuk mengembalikan data lebih dari satu data."
      ]
    },
    {
      "cell_type": "markdown",
      "metadata": {
        "id": "U6FyJgeYxMSz",
        "colab_type": "text"
      },
      "source": [
        "**23. Struktur Data Set (Set)**"
      ]
    },
    {
      "cell_type": "markdown",
      "metadata": {
        "id": "8iDSrSSbx0Ve",
        "colab_type": "text"
      },
      "source": [
        "1.   list => [ ]\n",
        "2.   tuple => ( )\n",
        "3.   set => { }\n",
        "\n"
      ]
    },
    {
      "cell_type": "markdown",
      "metadata": {
        "id": "tx6wUwfGyJJG",
        "colab_type": "text"
      },
      "source": [
        "Kegunaannya seperti *list* dan *tuple* yaitu untuk menyimpan data. Yang membedakan adalah cara membuatnya, dan datanya tidak boleh sama. Karena jika ada data yang lebih dari satu atau sama maka yang terbaca hanya satu oleh program."
      ]
    },
    {
      "cell_type": "markdown",
      "metadata": {
        "id": "2FAJb0QBzjKX",
        "colab_type": "text"
      },
      "source": [
        "Dalam **set** tidak bisa mengakses data indeks. Caranya hanya menggunakan **for-loop**. Yang ada dalam **set** bisa menambah data dengan perintah **nama.add** dn menghapus data **nama.remove**"
      ]
    },
    {
      "cell_type": "markdown",
      "metadata": {
        "id": "tQEqHM-y5N13",
        "colab_type": "text"
      },
      "source": [
        "**24. Method (Function)**"
      ]
    },
    {
      "cell_type": "markdown",
      "metadata": {
        "id": "EJtNlfdqAmlJ",
        "colab_type": "text"
      },
      "source": [
        "Untuk mempersingkat program agar tidak mengulangi kode yang sama supaya lebih efektif."
      ]
    },
    {
      "cell_type": "markdown",
      "metadata": {
        "id": "9siT8vPRBKhk",
        "colab_type": "text"
      },
      "source": [
        "**Function** ini berfungsi untuk menyimpan *blok* dimana kode blok akan dieksekusi ketika dibutuhkan dan dipanggil. Dengan menggunakan keyword **define(def)**. Jadi untuk kode yang akan dieksekusi agar tidak berulang kodenya/perintahnya bisa disimpan kedalam **Method** dan dipanggil sesuai kebutuhan."
      ]
    },
    {
      "cell_type": "code",
      "metadata": {
        "id": "6TS6y79eB6JY",
        "colab_type": "code",
        "colab": {}
      },
      "source": [
        "nama = []\n",
        "\n",
        "def print_nama():\n",
        "  print(\"==========\")\n",
        "  for data in nama :\n",
        "    print(data)\n",
        "\n",
        "nama.append(\"eko\")\n",
        "print_nama()\n",
        "\n",
        "nama.append(\"kurniawan\")\n",
        "print_nama()"
      ],
      "execution_count": null,
      "outputs": []
    },
    {
      "cell_type": "markdown",
      "metadata": {
        "id": "RSTaOKVGCemQ",
        "colab_type": "text"
      },
      "source": [
        "Remember : Jika membuat sebuah **Method** pastikan sebelum dipanggil telah dibuat/dideklarasikan sebelumnya."
      ]
    },
    {
      "cell_type": "markdown",
      "metadata": {
        "id": "vKLNO4XcSt6S",
        "colab_type": "text"
      },
      "source": [
        "**25. Method Parameter**"
      ]
    },
    {
      "cell_type": "markdown",
      "metadata": {
        "id": "FYZsqwi0Svjg",
        "colab_type": "text"
      },
      "source": [
        "print = Method dalam python\n",
        "----(\"\") = Parameter"
      ]
    },
    {
      "cell_type": "code",
      "metadata": {
        "id": "Y8u_e0GmTaDf",
        "colab_type": "code",
        "colab": {}
      },
      "source": [
        "def say_hello(nama):\n",
        "  print(f\"Hello {name}\")\n",
        "\n",
        "say_hello(\"Eko\")\n",
        "say_hello(\"Joko\")"
      ],
      "execution_count": null,
      "outputs": []
    },
    {
      "cell_type": "markdown",
      "metadata": {
        "id": "p7R672JBT5-B",
        "colab_type": "text"
      },
      "source": [
        "**Parameter** digunakan untuk memberikan *nilai*, *value*, atau *data* kedalam sebuah **Method**. Parameter juga bisa lebih dari satu cukup di gabungkan dengan tanda koma (,)"
      ]
    },
    {
      "cell_type": "markdown",
      "metadata": {
        "id": "4tWV_SkNUkMd",
        "colab_type": "text"
      },
      "source": [
        "**26. Default Argument Value**"
      ]
    },
    {
      "cell_type": "code",
      "metadata": {
        "id": "D-F1ujSlVAYL",
        "colab_type": "code",
        "colab": {}
      },
      "source": [
        "def say_hello(name=\"Eko\"):\n",
        "  print(f\"Hello {name}\")\n",
        "\n",
        "say_hello(\"Eko\")\n",
        "say_hello()"
      ],
      "execution_count": null,
      "outputs": []
    },
    {
      "cell_type": "markdown",
      "metadata": {
        "id": "BmH7_2BlVIut",
        "colab_type": "text"
      },
      "source": [
        "**Default Value** untuk parameter, dimana kita dapat mengaturnya ketika kode program memanggil *Method* tapi tidak memasukkan parameternya. Dengan menambahkan **Default Value** maka akan secara otomatis variablenya akan *opsional* atau tidak wajib diisi. keyword : name="
      ]
    },
    {
      "cell_type": "markdown",
      "metadata": {
        "id": "_gHbbxP7Wlpt",
        "colab_type": "text"
      },
      "source": [
        "Remember : Penambahan *Default Value* harus di akhir kode bukan di depan. "
      ]
    },
    {
      "cell_type": "markdown",
      "metadata": {
        "id": "m_HWjQcBXcdQ",
        "colab_type": "text"
      },
      "source": [
        "**27. Argument List**"
      ]
    },
    {
      "cell_type": "code",
      "metadata": {
        "id": "4oq6iGJ5hbOj",
        "colab_type": "code",
        "colab": {}
      },
      "source": [
        "def jumlahkan (*list_angka):\n",
        "  total = 0\n",
        "  for angka in lis_angka:\n",
        "    total = total + angka\n",
        "  print(f\"Total {list_angka} = {total}\")\n",
        "\n",
        "jumlahkan(10,10, 10, 10)"
      ],
      "execution_count": null,
      "outputs": []
    },
    {
      "cell_type": "markdown",
      "metadata": {
        "id": "yIQd7p5moMkL",
        "colab_type": "text"
      },
      "source": [
        "Untuk parameter yang dinamis, sesuai dengan yang dimasukkan.maka digunakan **Argumen List**. Dimana cukup satu *argumen/parameter* dan kita bisa memasukkan beberapa nilai kedalam parameter tersebut.Untuk menandakan bahwa suatu parameter adalah **argument list** ditambahkan tanda bintang (*) di depan parameternya, sehingga akan memunculkan data lebih dari satu. Untuk menambahkan datanya digunakan *for-loop*."
      ]
    },
    {
      "cell_type": "markdown",
      "metadata": {
        "id": "IH37ohO8tMvc",
        "colab_type": "text"
      },
      "source": [
        "**Argument List** digunakan untuk menampung lebih dari satu data dalam satu parameter. Mirip seperti list, tapi yang membedakan tidak perlu menggunakan kurung kotak [ ] cukup mentioned di parameternya. Untuk menambahkan **Argument List** ditambhkan dipaling belakang parameter dan hanya bisa satu."
      ]
    },
    {
      "cell_type": "markdown",
      "metadata": {
        "id": "VG62MMbit74u",
        "colab_type": "text"
      },
      "source": [
        "**28. Return Value**"
      ]
    },
    {
      "cell_type": "markdown",
      "metadata": {
        "id": "oNe-aoIhuLT0",
        "colab_type": "text"
      },
      "source": [
        "Sebelumnya **Method** hanya mengeksekusi kode yang diinginkan. Biasanya ada 2 jenis **Method** yaitu *prosedur = hanya mengeksekusi kode program saja* dan *function = yang mengembalikan nilai*."
      ]
    },
    {
      "cell_type": "markdown",
      "metadata": {
        "id": "FHg3u5qjwBRW",
        "colab_type": "text"
      },
      "source": [
        "Setelah mengeksekusi blok yang ada di **Method** kita bisa mngembalikan nilai dengan cara menambahkan perintan **return** setelah itu dipilih nilai apa yang akann dikembalikan."
      ]
    },
    {
      "cell_type": "code",
      "metadata": {
        "id": "zhZloQoqwDLh",
        "colab_type": "code",
        "colab": {}
      },
      "source": [
        "def jumlahkan(*list_angka):\n",
        "  total = 0\n",
        "  for angka in list_angka :\n",
        "    total = total + angka\n",
        "  return total\n",
        "\n",
        "total = jumlahkan (10, 10, 10, 10, 10)\n",
        "\n",
        "print(total)"
      ],
      "execution_count": null,
      "outputs": []
    },
    {
      "cell_type": "markdown",
      "metadata": {
        "id": "34oGeIDrwYmo",
        "colab_type": "text"
      },
      "source": [
        "Bisa juga **Method jumlahkan** digunakan untuk mengembalikan *data list* dari parameter yang ada."
      ]
    },
    {
      "cell_type": "markdown",
      "metadata": {
        "id": "2gH65Nx7xqKF",
        "colab_type": "text"
      },
      "source": [
        "**Return value** digunakan untuk mengembalikan hasil kalkulasi atau hasil kode program yang dibuat pada *Method*."
      ]
    },
    {
      "cell_type": "markdown",
      "metadata": {
        "id": "Aq8wkm22x0i-",
        "colab_type": "text"
      },
      "source": [
        "**29. Struktur Data Dictionary**"
      ]
    },
    {
      "cell_type": "markdown",
      "metadata": {
        "id": "NeEb-1KLyCnL",
        "colab_type": "text"
      },
      "source": [
        "Mirip seperti *list, tuple dan set* yaitu tipe data bisa menyimpan lebih dari satu data. "
      ]
    },
    {
      "cell_type": "code",
      "metadata": {
        "id": "l6qaxIQK8X3D",
        "colab_type": "code",
        "colab": {}
      },
      "source": [
        "customer = {\"Name\" : \"Eko\", \"Age\":30, \"Address\":\"Subang\"}\n",
        "\n",
        "name = customer [\"Nama\"]\n",
        "age = customer [\"Age\"]\n",
        "address = customer [\"Address\"]\n",
        "\n",
        "for key in customer:\n",
        "  value = customer [key]\n",
        "  print(f\"{key}:{value}\")\n",
        "\n",
        "del costumer [\"Address\"]\n",
        "  \n"
      ],
      "execution_count": null,
      "outputs": []
    },
    {
      "cell_type": "markdown",
      "metadata": {
        "id": "EEA0rxeO866N",
        "colab_type": "text"
      },
      "source": [
        "Dengan menggunakan **Dictionary** maka kita bisa mengganti indeksnya menjadi *string* dengan nilai bebas. Cara membuat *dictionary* mirip deperti *set* yaitu dengan kurung krwal { }. Pada *dictionary* indeks dipanggil **key**."
      ]
    },
    {
      "cell_type": "markdown",
      "metadata": {
        "id": "znax_0ZA91Ld",
        "colab_type": "text"
      },
      "source": [
        "Dengan menggunakan **Dictionary** untuk kemungkinan salah kecil karena langsung mentioned dari si *dictionary nya karena datanya juga bentuknya *string*. Ketika menggunakan perulangan pastikan hasil perulangannya adalah **Key** dan untuk mengaksesnya bisa menggunakan **Key** yang ada diperulangan **for**."
      ]
    },
    {
      "cell_type": "markdown",
      "metadata": {
        "id": "OCALQF11_3cK",
        "colab_type": "text"
      },
      "source": [
        "untuk menambah/mengubah cukup dengan menambahkan *atribut*. Jika ingin menghapus data gunakan keyword **del**. Jadi untuk membuat data misalnya \"costumer\" atau data dengan atribute data yang banyak sebaiknya menggunakan **dictionary**."
      ]
    },
    {
      "cell_type": "markdown",
      "metadata": {
        "id": "TtI0DpKRG0vy",
        "colab_type": "text"
      },
      "source": [
        "**30. Keyword Argument List**"
      ]
    },
    {
      "cell_type": "code",
      "metadata": {
        "id": "kLbg3wLaHfeD",
        "colab_type": "code",
        "colab": {}
      },
      "source": [
        "def create_html(tag, text, **attributes):\n",
        "  html = f\",{tag}>{text}</{tag}>\"\n",
        "\n",
        "for key, value in attributes.items():\n",
        "  html = html + f\"{key} ='{value}'\"\n",
        "  html = html + f\"{text}</{tag}>\"\n",
        "  return html\n",
        "\n",
        "html = create_html(\"p\", \"Hello Python\", style=\"paragraf\")\n",
        "print(html)\n",
        "html = create_html(\"a\", \"Ini Link\", href=\"www.google.com\", style=\"link\")\n",
        "print(html)\n",
        "\n",
        "#<a href=\"\">Ini Link</a>"
      ],
      "execution_count": null,
      "outputs": []
    },
    {
      "cell_type": "markdown",
      "metadata": {
        "id": "cIyl6lssIKgO",
        "colab_type": "text"
      },
      "source": [
        "**Keyword Argument List** digunakan ketika memasukkan *argumet* tapi harus menyebutkan nama *argument/parameternya* dan nanti akan di combine secara otomatis menjadi *dictionary*. Dan berfungsi untuk menambahkan custom parameter/ argument."
      ]
    },
    {
      "cell_type": "markdown",
      "metadata": {
        "id": "mM7617NgJ7hJ",
        "colab_type": "text"
      },
      "source": [
        "keyword **argument** menggunakan bintang dua (**). "
      ]
    },
    {
      "cell_type": "markdown",
      "metadata": {
        "id": "5NZCDYgxMLDt",
        "colab_type": "text"
      },
      "source": [
        "**31. Module**"
      ]
    },
    {
      "cell_type": "markdown",
      "metadata": {
        "id": "fGJGDP2lNwp6",
        "colab_type": "text"
      },
      "source": [
        " Membuat satu file untuk tiap proses berdasarkan fitur2nya. Ketika membuat file berarti kita membuat **Module** dimana file tersebut bisa digunakan di file lain. Jika kita kan mengimport dari file lain bisa menggunakan keyword **import**. Misalnya mengimport dari function.py, jadi untuk mengimport satu modul untuk mengakses *Method* harus awali dengan nama modulnya. Sedangkan untuk langsung import *Method* tidak perlu menggunakan prefiks nama modul diawalannya."
      ]
    },
    {
      "cell_type": "code",
      "metadata": {
        "id": "YuovqisgAOKR",
        "colab_type": "code",
        "colab": {}
      },
      "source": [
        "from function import say_hello\n",
        "from function import total\n",
        "\n",
        "hello = say_hello(\"Eko\")\n",
        "print(hello)\n",
        "\n",
        "hasil = total(1,2,3,4,5)\n",
        "print(hasil)"
      ],
      "execution_count": null,
      "outputs": []
    },
    {
      "cell_type": "markdown",
      "metadata": {
        "id": "PbZjF9sqBpVo",
        "colab_type": "text"
      },
      "source": [
        "Remember : Saat membuat program jangan dibuat di dalam satu file tapi perlu dipisah-pisah menjadi beberapa modul, dan membuat satu program yang khsus memanggil semua modulnya. "
      ]
    },
    {
      "cell_type": "markdown",
      "metadata": {
        "id": "YXJlXb0zMVf1",
        "colab_type": "text"
      },
      "source": [
        "**32. Tipe Data Numeric**"
      ]
    },
    {
      "cell_type": "markdown",
      "metadata": {
        "id": "owrRTIgkCdan",
        "colab_type": "text"
      },
      "source": [
        "Secara detail di python ada 3 jenis numeric :\n",
        "\n",
        "1.  Integer = numeric biasa tanpa decimal\n",
        "2.  Float = decimal\n",
        "3.  Complex = ada real number dan imaginary number\n",
        "\n"
      ]
    },
    {
      "cell_type": "code",
      "metadata": {
        "id": "5cq7yQd2DE28",
        "colab_type": "code",
        "colab": {}
      },
      "source": [
        "angka = 1\n",
        "angka2 = 1.5\n",
        "total = angka + angka2\n",
        "print(total)\n",
        "print(10/3)"
      ],
      "execution_count": null,
      "outputs": []
    },
    {
      "cell_type": "markdown",
      "metadata": {
        "id": "t19sp_jGMZ0D",
        "colab_type": "text"
      },
      "source": [
        "**33. String Method**"
      ]
    },
    {
      "cell_type": "markdown",
      "metadata": {
        "id": "NpJ0-wnXLncj",
        "colab_type": "text"
      },
      "source": [
        "**Build in Method** = Metode yang telah di Build in untuk si *String*\n",
        "[link text] ==> (https://docs.python.org/3.7/library/stdtypes.html#string-methods)"
      ]
    },
    {
      "cell_type": "markdown",
      "metadata": {
        "id": "KCDji9qcGsZC",
        "colab_type": "text"
      },
      "source": [
        "**I have to read about this anymore**"
      ]
    },
    {
      "cell_type": "code",
      "metadata": {
        "id": "eYMrLN5s-rpi",
        "colab_type": "code",
        "colab": {}
      },
      "source": [
        "nama = \"ekp kurniawan khannedy\"\n",
        "print(nama)\n",
        "print(nama.upper())\n",
        "print(nama.capitalize())\n",
        "print(nama.title())\n",
        "print(nama.split(\" \"))"
      ],
      "execution_count": null,
      "outputs": []
    },
    {
      "cell_type": "markdown",
      "metadata": {
        "id": "a74enVhRMetw",
        "colab_type": "text"
      },
      "source": [
        "**34. Membuat Program Management Kontak**"
      ]
    },
    {
      "cell_type": "markdown",
      "metadata": {
        "id": "oI2iLwEQG546",
        "colab_type": "text"
      },
      "source": [
        "github"
      ]
    },
    {
      "cell_type": "markdown",
      "metadata": {
        "id": "bZE_LcvvNKYM",
        "colab_type": "text"
      },
      "source": [
        "# Section 4 - Basic OOP"
      ]
    },
    {
      "cell_type": "markdown",
      "metadata": {
        "id": "GsDudbBnNPe_",
        "colab_type": "text"
      },
      "source": [
        "**1. Pendahuluan Object Oriented Programming**"
      ]
    },
    {
      "cell_type": "markdown",
      "metadata": {
        "id": "cTvqCxjTi1Qn",
        "colab_type": "text"
      },
      "source": [
        "**OOP (Object Oriented Programming)** atau dalam bahasa indonesia dikenal dengan pemrograman berorientasikan objek (PBO) merupakan sebuah paradigma atau teknik pemrograman yang *berorientesikan objek*.\n"
      ]
    },
    {
      "cell_type": "markdown",
      "metadata": {
        "id": "AUspGDzv845s",
        "colab_type": "text"
      },
      "source": [
        "Programming Paradigma :\n",
        "1.   Structural - procedural, ciri2nya : yang menyusun program seperti resep karena menyediakan seperangkat langkah, dalam bentuk fungsi dan blok kode, yang mengalir secara berurutan untuk menyelesaikan tugas\n",
        "  *  Dieksekusi berdasarkan urutan --> variable yang bernama sama\n",
        "\n",
        "2.   Object - Oriented ---> Menggunakan object agar bisa saling beriteraksi. Terdapat *template* -> *class*. "
      ]
    },
    {
      "cell_type": "markdown",
      "metadata": {
        "id": "N2OPJhhcDJA0",
        "colab_type": "text"
      },
      "source": [
        "**Class** = memiliki **template** :\n",
        "1.   Attribut (perlengkapan)\n",
        "2.   Method (Sesuatu yang bisa dilakukan)\n",
        "* Semua yang ada diatas merupakan *object*\n",
        "\n",
        "\n",
        "\n"
      ]
    },
    {
      "cell_type": "markdown",
      "metadata": {
        "id": "gziaIvyyEPV0",
        "colab_type": "text"
      },
      "source": [
        "cara membuat **class** pada python :\n",
        "1.   Mendeklarasikan *class* dan diberi *pass*\n",
        "2.   konvensi beri space 2 \n",
        "3.   \n",
        "\n"
      ]
    },
    {
      "cell_type": "code",
      "metadata": {
        "id": "_aWWJxIGKoNk",
        "colab_type": "code",
        "colab": {}
      },
      "source": [
        "class Hero: #template\n",
        "  pass\n",
        "  \n",
        "\n",
        "hero1 = Hero() #object/instance (intansiate)\n",
        "hero2 = Hero()\n",
        "hero3 = Hero();\n",
        "\n",
        "hero1.name = \"sniper\"\n",
        "hero1.health = 100\n",
        "\n",
        "hero2.name = \"sven\"\n",
        "hero2.health = 200\n",
        "\n",
        "hero3.name = \"ucup\"\n",
        "hero3.health = 1000\n",
        "\n",
        "print(hero1)\n",
        "print(hero1._dict_)\n",
        "print(hero1.name)"
      ],
      "execution_count": null,
      "outputs": []
    },
    {
      "cell_type": "markdown",
      "metadata": {
        "id": "-UyIHJQpj40s",
        "colab_type": "text"
      },
      "source": [
        "Remember dalam OOP :\n",
        "1.   **Variabel** disebut *atribut* atau *properti*\n",
        "2.  **Fungsi** disebut *method*\n",
        "3.   **Instance** bisa diartikan sebagai wujud dari *class*\n",
        "4.   **Class** berisi definisi variabel dan fungsi yang menggambarkan sebuah *objek*\n",
        "\n"
      ]
    },
    {
      "cell_type": "markdown",
      "metadata": {
        "id": "_JW7GoLGL2PS",
        "colab_type": "text"
      },
      "source": [
        "**2. Constructor_init__()**"
      ]
    },
    {
      "cell_type": "markdown",
      "metadata": {
        "id": "apNY0UPKBQnF",
        "colab_type": "text"
      },
      "source": [
        "**Constructor** adalah method khusus yang akan dijalankan secara otomatis pada saat sebuah objek dibuat (instansiasi), yakni ketika perintah **new** dijalankan. Constructor biasa digunakan untuk membuat proses awal dalam mempersiapkan objek, seperti memberi nilai awal kepada *property*, memanggil *method* internal dan beberapa proses lain yang digunakan untuk ‘mempersiapkan’ objek."
      ]
    },
    {
      "cell_type": "markdown",
      "metadata": {
        "id": "plqRfSQ0gxe1",
        "colab_type": "text"
      },
      "source": [
        "**constructor** dibuat menggunakan method : **__construct()**. *Notice that the construct function starts with two underscores (__)*!"
      ]
    },
    {
      "cell_type": "markdown",
      "metadata": {
        "id": "V7wD-BsBlNsk",
        "colab_type": "text"
      },
      "source": [
        "Semua class membuat objek, dan semua objek mengandung karakteristik yang disebut **atribut** (disebut sebagai properti pada paragraf pembuka). Gunakan **__init__()**metode untuk menginisialisasi (misalnya, tentukan) atribut awal objek dengan memberi mereka nilai *default* (atau side state). Metode ini harus memiliki setidaknya *satu argumen* dan juga selfvariabel, yang mengacu pada objek itu sendiri (misalnya, Dog)."
      ]
    },
    {
      "cell_type": "markdown",
      "metadata": {
        "id": "GKlmuB5aL9gJ",
        "colab_type": "text"
      },
      "source": [
        "**3. Class dan Instance Variables**"
      ]
    },
    {
      "cell_type": "markdown",
      "metadata": {
        "id": "iHziCL6ZhFe1",
        "colab_type": "text"
      },
      "source": [
        "**Variabel** pada dasarnya adalah simbol yang mendukung nilai yang di gunakan dalam suatu program."
      ]
    },
    {
      "cell_type": "markdown",
      "metadata": {
        "id": "gLdSLuKLnoVD",
        "colab_type": "text"
      },
      "source": [
        "**Class Variable** didefinisikan dalam *class contruction*. Karena mereka dimiliki oleh *class* itu sendiri, *class variable* dibagi oleh semua *class instance*. Karenanya mereka umumnya akan memiliki nilai yang sama untuk setiap *class instance* kecuali kita menggunakan *class variable* untuk menginisialisasi variabel.\n",
        "\n",
        "Didefinisikan di luar semua metode, variabel kelas, dengan konvensi, biasanya ditempatkan tepat di bawah *class header* dan sebelum *constructor method* dan metode lainnya."
      ]
    },
    {
      "cell_type": "code",
      "metadata": {
        "id": "yHdV6TPpwahc",
        "colab_type": "code",
        "colab": {}
      },
      "source": [
        "class Shark:\n",
        "    animal_type = \"fish\""
      ],
      "execution_count": null,
      "outputs": []
    },
    {
      "cell_type": "markdown",
      "metadata": {
        "id": "K20vxdwxwcUY",
        "colab_type": "text"
      },
      "source": [
        "Di sini, variabel *animal_type* diberi nilai \"ikan\". Kita dapat membuat turunan dari kelas *Shark* (disebut *new_shark*) dan mencetak variabel dengan menggunakan *notasi titik (.)* :"
      ]
    },
    {
      "cell_type": "code",
      "metadata": {
        "id": "n1oF3TnDw2C6",
        "colab_type": "code",
        "colab": {}
      },
      "source": [
        "class Shark:\n",
        "    animal_type = \"fish\"\n",
        "\n",
        "new_shark = Shark()\n",
        "print(new_shark.animal_type)"
      ],
      "execution_count": null,
      "outputs": []
    },
    {
      "cell_type": "markdown",
      "metadata": {
        "id": "V_4Ai2JnHDQ6",
        "colab_type": "text"
      },
      "source": [
        "Program kita mengembalikan nilai variabel.\n",
        "\n",
        "Mari kita tambahkan beberapa variabel kelas lagi dan run:\n",
        "\n"
      ]
    },
    {
      "cell_type": "code",
      "metadata": {
        "id": "O-mKzl9cHQ7c",
        "colab_type": "code",
        "colab": {}
      },
      "source": [
        "class Shark:\n",
        "    animal_type = \"fish\"\n",
        "    location = \"ocean\"\n",
        "    followers = 5\n",
        "\n",
        "new_shark = Shark()\n",
        "print(new_shark.animal_type)\n",
        "print(new_shark.location)\n",
        "print(new_shark.followers)"
      ],
      "execution_count": null,
      "outputs": []
    },
    {
      "cell_type": "markdown",
      "metadata": {
        "id": "XPajZFPsHT1e",
        "colab_type": "text"
      },
      "source": [
        "Sama seperti variabel lainnya, *class variable* dapat terdiri dari tipe data apa pun yang tersedia untuk kita dengan Python. Dalam program ini memiliki *string* dan *integer*."
      ]
    },
    {
      "cell_type": "markdown",
      "metadata": {
        "id": "cIqjbptWIA1g",
        "colab_type": "text"
      },
      "source": [
        "**Instance variable** dimiliki oleh *instance* dari *class*. Ini berarti bahwa untuk setiap objek atau class instance, variabel instance berbeda.\n",
        "\n",
        "Tidak seperti variabel kelas, variabel instan didefinisikan dalam *method*."
      ]
    },
    {
      "cell_type": "code",
      "metadata": {
        "id": "M-lBLSGBIKof",
        "colab_type": "code",
        "colab": {}
      },
      "source": [
        "class Shark:\n",
        "    def __init__(self, name, age):\n",
        "        self.name = name\n",
        "        self.age = age\n",
        "\n",
        "new_shark = Shark(\"Sammy\", 5)\n",
        "print(new_shark.name)\n",
        "print(new_shark.age)\n",
        "\n",
        "stevie = Shark(\"Stevie\", 8)\n",
        "print(stevie.name)\n",
        "print(stevie.age)"
      ],
      "execution_count": null,
      "outputs": []
    },
    {
      "cell_type": "markdown",
      "metadata": {
        "id": "5F4aFEkSJiVw",
        "colab_type": "text"
      },
      "source": [
        "**Instance variable**, yang dimiliki oleh *class object*, memungkinkan setiap objek atau instance memiliki nilai berbeda yang ditetapkan untuk variabel tersebut."
      ]
    },
    {
      "cell_type": "markdown",
      "metadata": {
        "id": "H3n3GvCoIsFz",
        "colab_type": "text"
      },
      "source": [
        "Conclusion : Dalam OOP, variabel di tingkat *class* disebut sebagai **class variable**, sedangkan variabel di tingkat *objek* disebut **instance variable**.\n",
        "\n",
        "Diferensiasi ini memungkinkan kita untuk menggunakan variabel kelas untuk menginisialisasi *objek* dengan nilai spesifik yang ditetapkan ke *variabel*, dan menggunakan variabel berbeda untuk setiap objek dengan **instance variable**.\n",
        "\n",
        "Memanfaatkan **class variable** dan **instance-spesifik** dapat memastikan bahwa kode mematuhi prinsip DRY untuk mengurangi pengulangan/loop dalam kode."
      ]
    },
    {
      "cell_type": "markdown",
      "metadata": {
        "id": "LSDc7tLqMDwc",
        "colab_type": "text"
      },
      "source": [
        "**4. Methods**"
      ]
    },
    {
      "cell_type": "markdown",
      "metadata": {
        "id": "muZws6JiiAC-",
        "colab_type": "text"
      },
      "source": [
        "**Method** adalah tindakan yang bisa dilakukan di dalam *class*. Jika menggunakan analogi *class laptop* kita, maka contoh method adalah: menghidupkan laptop, mematikan laptop, mengganti cover laptop, dan berbagai tindakan lain."
      ]
    },
    {
      "cell_type": "markdown",
      "metadata": {
        "id": "kf24_381LCS6",
        "colab_type": "text"
      },
      "source": [
        "**Method** adalah setara dengan *function* dalam OOP. Kata benda adalah kata kerja, variabel untuk suatu metode - metode adalah tindakan yang melakukan operasi pada suatu *variabel*. **Method** menerima parameter sebagai argumen, memanipulasi ini, dan kemudian menghasilkan output ketika metode dipanggil pada *objek*. Metode mirip dengan fungsi, tetapi metode juga diklasifikasikan sesuai dengan tujuannya dalam desain *class*. Di *class variable* disebut **atribut**, sehingga metode sering beroperasi pada *atribut*.\n",
        "\n"
      ]
    },
    {
      "cell_type": "markdown",
      "metadata": {
        "id": "FmMx8FUYMH1E",
        "colab_type": "text"
      },
      "source": [
        "**5. Latihan OOP Sederhana**"
      ]
    },
    {
      "cell_type": "markdown",
      "metadata": {
        "id": "e6vD6uEMG80p",
        "colab_type": "text"
      },
      "source": [
        "github"
      ]
    }
  ]
}